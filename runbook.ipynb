{
 "cells": [
  {
   "cell_type": "markdown",
   "metadata": {},
   "source": [
    "# Runbook\n",
    "\n",
    "## Goals\n",
    "\n",
    "- Configure Container Services Manager\n",
    "- Add a MySQL service offering\n",
    "- Review the changes made to K8S\n",
    "- Bind an app to the service\n",
    "\n",
    "## Architecture Review\n",
    "\n",
    "![Ref Arch](imgs/reference_architecture.png)\n",
    "\n",
    "## TAS Login\n",
    "\n",
    "Log into TAS and add the KSM product tile.\n",
    "\n",
    "## KSM Tile Overview\n",
    "\n",
    "### Assign AZs and Networks\n",
    "### Kubernetes Configuration"
   ]
  },
  {
   "cell_type": "markdown",
   "metadata": {},
   "source": [
    "**A base64 encoded PEM Cluster CA certificate**"
   ]
  },
  {
   "cell_type": "code",
   "execution_count": null,
   "metadata": {},
   "outputs": [],
   "source": [
    "kubectl config view | grep -i -C 2 '    certificate-authority-data:'"
   ]
  },
  {
   "cell_type": "markdown",
   "metadata": {},
   "source": [
    "**Service Account & Token**"
   ]
  },
  {
   "cell_type": "code",
   "execution_count": null,
   "metadata": {},
   "outputs": [],
   "source": [
    "cat service-account.yml"
   ]
  },
  {
   "cell_type": "code",
   "execution_count": null,
   "metadata": {},
   "outputs": [],
   "source": [
    "kubectl -n kube-system get sa ksm-admin"
   ]
  },
  {
   "cell_type": "code",
   "execution_count": null,
   "metadata": {},
   "outputs": [],
   "source": [
    "kubectl -n kube-system get clusterrolebinding ksm-cluster-admin"
   ]
  },
  {
   "cell_type": "code",
   "execution_count": null,
   "metadata": {},
   "outputs": [],
   "source": [
    "secret_name=$(kubectl get serviceaccount ksm-admin --namespace=kube-system -o jsonpath='{.secrets[0].name}')\n",
    "\n",
    "secret_val=$(kubectl --namespace=kube-system get secret $secret_name -o jsonpath='{.data.token}')\n",
    "\n",
    "echo ${secret_val} | base64 --decode"
   ]
  },
  {
   "cell_type": "markdown",
   "metadata": {},
   "source": [
    "### Storage Configuration\n",
    "\n",
    "S3 compatible bucket is required\n",
    "\n",
    "Access ID & Key are required with \"list and upload\" permissions"
   ]
  },
  {
   "cell_type": "markdown",
   "metadata": {},
   "source": [
    "### Container Registry Configuration (Optional)\n",
    "\n",
    "GCP Registry Username: _json_key\n",
    "\n",
    "GCP Registry Password: *Full json file for the service account*"
   ]
  },
  {
   "cell_type": "code",
   "execution_count": null,
   "metadata": {},
   "outputs": [],
   "source": []
  }
 ],
 "metadata": {
  "kernelspec": {
   "display_name": "Z shell",
   "language": "zsh",
   "name": "zsh"
  },
  "language_info": {
   "codemirror_mode": "shell",
   "file_extension": ".zsh",
   "mimetype": "text/x-zsh",
   "name": "zsh",
   "pygments_lexer": "shell",
   "version": "5.7.1"
  }
 },
 "nbformat": 4,
 "nbformat_minor": 4
}
